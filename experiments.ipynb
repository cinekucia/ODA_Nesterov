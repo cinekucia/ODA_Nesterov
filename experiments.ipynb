{
 "cells": [
  {
   "cell_type": "code",
   "execution_count": 1,
   "metadata": {},
   "outputs": [],
   "source": [
    "import numpy as np"
   ]
  },
  {
   "cell_type": "code",
   "execution_count": 2,
   "metadata": {},
   "outputs": [],
   "source": [
    "from optim import *\n",
    "from util import *"
   ]
  },
  {
   "cell_type": "markdown",
   "metadata": {},
   "source": [
    "### Measuring CPU time"
   ]
  },
  {
   "cell_type": "markdown",
   "metadata": {},
   "source": [
    "##### Experiment 1 ($n=4000$, $m=1000$, $\\rho=0.1$, $seed=42$)"
   ]
  },
  {
   "cell_type": "code",
   "execution_count": 3,
   "metadata": {},
   "outputs": [],
   "source": [
    "# Example usage\n",
    "m, n, rho = 1000, 4000, 1\n",
    "A, b, x_star = generate_sparse_least_squares(m, n, rho, random_seed=42)"
   ]
  },
  {
   "cell_type": "code",
   "execution_count": 4,
   "metadata": {},
   "outputs": [],
   "source": [
    "# primal\n",
    "x0 = np.zeros(n)\n",
    "tol = 1e-9 # tolerance for relative gap reduction\n",
    "solver = PrimalGradientMethod(A, b, x0, tol, max_iter=10000)\n",
    "solution, iterations, final_gap, gap_history, loss_history, cpu_time = solver.compute_steps()"
   ]
  },
  {
   "cell_type": "code",
   "execution_count": 5,
   "metadata": {},
   "outputs": [
    {
     "data": {
      "text/plain": [
       "array([ 0.49963609,  0.28391818, -0.25457929, ...,  0.7075572 ,\n",
       "        0.81571991,  0.22095748])"
      ]
     },
     "execution_count": 5,
     "metadata": {},
     "output_type": "execute_result"
    }
   ],
   "source": [
    "solution"
   ]
  },
  {
   "cell_type": "code",
   "execution_count": 6,
   "metadata": {},
   "outputs": [],
   "source": [
    "# dual\n",
    "v0 = np.zeros(n)\n",
    "L0 = 2\n",
    "gamma_d = 2\n",
    "penalty = 0.0  # This replaces lambda_ as a regularization parameter\n",
    "\n",
    "solver = DualGradientMethod(A, b, penalty, gamma_d=2, gamma_u=1.0, L_0=L0, v_0=v0, max_iter=10000, tol=tol)\n",
    "solution_dual, iterations_dual, final_gap_dual, gap_history_dual, loss_history_dual, cpu_history_dual = solver.compute_steps()"
   ]
  },
  {
   "cell_type": "code",
   "execution_count": 7,
   "metadata": {},
   "outputs": [
    {
     "data": {
      "text/plain": [
       "array([ 0.49953629,  0.28384051, -0.25464101, ...,  0.70754036,\n",
       "        0.81577746,  0.22087758])"
      ]
     },
     "execution_count": 7,
     "metadata": {},
     "output_type": "execute_result"
    }
   ],
   "source": [
    "solution_dual"
   ]
  },
  {
   "cell_type": "code",
   "execution_count": 8,
   "metadata": {},
   "outputs": [],
   "source": [
    "# nesterov\n",
    "v0 = np.zeros(n)  # Initial point\n",
    "L0 = 1.0          # Initial Lipschitz constant guess\n",
    "solver = NesterovAcceleratedGradientMethod(A, b, L0, v0, max_iter=10000, tol=1e-9)\n",
    "solution_nag, iterations_nag, final_gap_nag, gap_history_nag, loss_history_nag, cpu_time_nag = solver.compute_steps()"
   ]
  },
  {
   "cell_type": "code",
   "execution_count": 9,
   "metadata": {},
   "outputs": [
    {
     "data": {
      "text/plain": [
       "array([ 0.49957994,  0.28385573, -0.25465725, ...,  0.70751566,\n",
       "        0.81577232,  0.22096123])"
      ]
     },
     "execution_count": 9,
     "metadata": {},
     "output_type": "execute_result"
    }
   ],
   "source": [
    "solution_nag"
   ]
  },
  {
   "cell_type": "code",
   "execution_count": 10,
   "metadata": {},
   "outputs": [
    {
     "name": "stdout",
     "output_type": "stream",
     "text": [
      "28 350 46\n"
     ]
    }
   ],
   "source": [
    "print(iterations, iterations_dual, iterations_nag)"
   ]
  },
  {
   "cell_type": "code",
   "execution_count": 11,
   "metadata": {},
   "outputs": [
    {
     "data": {
      "image/png": "[encoded data removed]",
      "text/plain": [
       "<Figure size 640x480 with 1 Axes>"
      ]
     },
     "metadata": {},
     "output_type": "display_data"
    }
   ],
   "source": [
    "# plot the loss history\n",
    "import matplotlib.pyplot as plt\n",
    "\n",
    "plt.title('Loss history')\n",
    "plt.plot(cpu_time, label='Primal')\n",
    "plt.plot(cpu_history_dual, label='Dual')\n",
    "plt.plot(cpu_time_nag, label='Nesterov')\n",
    "plt.xlabel('Iteration')\n",
    "plt.ylabel('CPU time')\n",
    "plt.legend()\n",
    "plt.show()"
   ]
  },
  {
   "cell_type": "markdown",
   "metadata": {},
   "source": [
    "### Diabetes dataset check"
   ]
  },
  {
   "cell_type": "code",
   "execution_count": 30,
   "metadata": {},
   "outputs": [],
   "source": [
    "X_train, X_test, y_train, y_test = load_diabetes_data()"
   ]
  },
  {
   "cell_type": "code",
   "execution_count": 31,
   "metadata": {},
   "outputs": [],
   "source": [
    "# primal\n",
    "x0 = np.zeros(X_train.shape[1])\n",
    "tol = 1e-9 # tolerance for relative gap reduction\n",
    "solver = PrimalGradientMethod(X_train, y_train, x0, tol, max_iter=10000)\n",
    "solution, iterations, final_gap, gap_history, loss_history, cpu_time = solver.compute_steps()"
   ]
  },
  {
   "cell_type": "code",
   "execution_count": 32,
   "metadata": {},
   "outputs": [
    {
     "data": {
      "text/plain": [
       "array([ 114.89644702, -219.57385519,  583.26023856,  342.29142375,\n",
       "       -121.36441297, -186.47846948, -244.44053673,  126.4717743 ,\n",
       "        408.91505311,  192.71308482])"
      ]
     },
     "execution_count": 32,
     "metadata": {},
     "output_type": "execute_result"
    }
   ],
   "source": [
    "solution"
   ]
  },
  {
   "cell_type": "code",
   "execution_count": 35,
   "metadata": {},
   "outputs": [],
   "source": [
    "# dual\n",
    "v0 = np.zeros(X_train.shape[1])\n",
    "L0 = 2\n",
    "gamma_d = 2\n",
    "penalty = 0.0  # This replaces lambda_ as a regularization parameter\n",
    "\n",
    "solver = DualGradientMethod(X_train, y_train, penalty, gamma_d=2, gamma_u=1.0, L_0=L0, v_0=v0, max_iter=10000, tol=tol)\n",
    "solution_dual, iterations_dual, final_gap_dual, gap_history_dual, loss_history_dual, cpu_history_dual = solver.compute_steps()"
   ]
  },
  {
   "cell_type": "code",
   "execution_count": 36,
   "metadata": {},
   "outputs": [
    {
     "data": {
      "text/plain": [
       "array([ 125.20585603, -258.20009863,  627.47883518,  346.31261166,\n",
       "       -803.69633456,  313.18488346,   45.28479605,  212.04054686,\n",
       "        701.01740074,  144.68989432])"
      ]
     },
     "execution_count": 36,
     "metadata": {},
     "output_type": "execute_result"
    }
   ],
   "source": [
    "solution_dual"
   ]
  },
  {
   "cell_type": "code",
   "execution_count": 33,
   "metadata": {},
   "outputs": [],
   "source": [
    "# nesterov\n",
    "v0 = np.zeros(X_train.shape[1])  # Initial point\n",
    "L0 = 1.0          # Initial Lipschitz constant guess\n",
    "A = X_train\n",
    "b = y_train\n",
    "solver = NesterovAcceleratedGradientMethod(A, b, L0, v0, max_iter=1000, tol=1e-9)\n",
    "solution_nag, iterations_nag, final_gap_nag, gap_history_nag, loss_history_nag, cpu_time_nag = solver.compute_steps()"
   ]
  },
  {
   "cell_type": "code",
   "execution_count": 34,
   "metadata": {},
   "outputs": [
    {
     "data": {
      "text/plain": [
       "array([ 125.20673175, -258.20235343,  627.47490816,  346.31699151,\n",
       "       -803.98535714,  313.41534649,   45.40868477,  212.07666587,\n",
       "        701.12573786,  144.68261964])"
      ]
     },
     "execution_count": 34,
     "metadata": {},
     "output_type": "execute_result"
    }
   ],
   "source": [
    "solution_nag"
   ]
  },
  {
   "cell_type": "code",
   "execution_count": null,
   "metadata": {},
   "outputs": [],
   "source": []
  },
  {
   "cell_type": "code",
   "execution_count": 29,
   "metadata": {},
   "outputs": [
    {
     "name": "stdout",
     "output_type": "stream",
     "text": [
      "[   0.          -81.08679585  546.89838663  264.96936272   -0.\n",
      "   -0.         -197.78452106    0.          396.22641741    0.        ]\n"
     ]
    }
   ],
   "source": [
    "from sklearn.linear_model import Lasso\n",
    "\n",
    "lasso = Lasso(alpha=0.2)\n",
    "lasso.fit(X_train, y_train)\n",
    "print(lasso.coef_)"
   ]
  },
  {
   "cell_type": "markdown",
   "metadata": {},
   "source": [
    "### Nesterov Comparison with `LASSORegressionCV` and `LARS`"
   ]
  },
  {
   "cell_type": "code",
   "execution_count": null,
   "metadata": {},
   "outputs": [],
   "source": []
  }
 ],
 "metadata": {
  "kernelspec": {
   "display_name": "aml_env",
   "language": "python",
   "name": "python3"
  },
  "language_info": {
   "codemirror_mode": {
    "name": "ipython",
    "version": 3
   },
   "file_extension": ".py",
   "mimetype": "text/x-python",
   "name": "python",
   "nbconvert_exporter": "python",
   "pygments_lexer": "ipython3",
   "version": "3.12.2"
  }
 },
 "nbformat": 4,
 "nbformat_minor": 2
}
